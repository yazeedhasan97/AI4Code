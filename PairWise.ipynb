{
 "cells": [
  {
   "cell_type": "code",
   "execution_count": 1,
   "id": "c5f0656e-cdd4-4740-9e08-c3c86c4c1c0d",
   "metadata": {},
   "outputs": [
    {
     "name": "stdout",
     "output_type": "stream",
     "text": [
      "__CUDA VERSION: 11.5\n",
      "__CUDNN VERSION: 8302\n",
      "True\n",
      "None\n",
      "|===========================================================================|\n",
      "|                  PyTorch CUDA memory summary, device ID 0                 |\n",
      "|---------------------------------------------------------------------------|\n",
      "|            CUDA OOMs: 0            |        cudaMalloc retries: 0         |\n",
      "|===========================================================================|\n",
      "|        Metric         | Cur Usage  | Peak Usage | Tot Alloc  | Tot Freed  |\n",
      "|---------------------------------------------------------------------------|\n",
      "| Allocated memory      |       0 B  |       0 B  |       0 B  |       0 B  |\n",
      "|       from large pool |       0 B  |       0 B  |       0 B  |       0 B  |\n",
      "|       from small pool |       0 B  |       0 B  |       0 B  |       0 B  |\n",
      "|---------------------------------------------------------------------------|\n",
      "| Active memory         |       0 B  |       0 B  |       0 B  |       0 B  |\n",
      "|       from large pool |       0 B  |       0 B  |       0 B  |       0 B  |\n",
      "|       from small pool |       0 B  |       0 B  |       0 B  |       0 B  |\n",
      "|---------------------------------------------------------------------------|\n",
      "| GPU reserved memory   |       0 B  |       0 B  |       0 B  |       0 B  |\n",
      "|       from large pool |       0 B  |       0 B  |       0 B  |       0 B  |\n",
      "|       from small pool |       0 B  |       0 B  |       0 B  |       0 B  |\n",
      "|---------------------------------------------------------------------------|\n",
      "| Non-releasable memory |       0 B  |       0 B  |       0 B  |       0 B  |\n",
      "|       from large pool |       0 B  |       0 B  |       0 B  |       0 B  |\n",
      "|       from small pool |       0 B  |       0 B  |       0 B  |       0 B  |\n",
      "|---------------------------------------------------------------------------|\n",
      "| Allocations           |       0    |       0    |       0    |       0    |\n",
      "|       from large pool |       0    |       0    |       0    |       0    |\n",
      "|       from small pool |       0    |       0    |       0    |       0    |\n",
      "|---------------------------------------------------------------------------|\n",
      "| Active allocs         |       0    |       0    |       0    |       0    |\n",
      "|       from large pool |       0    |       0    |       0    |       0    |\n",
      "|       from small pool |       0    |       0    |       0    |       0    |\n",
      "|---------------------------------------------------------------------------|\n",
      "| GPU reserved segments |       0    |       0    |       0    |       0    |\n",
      "|       from large pool |       0    |       0    |       0    |       0    |\n",
      "|       from small pool |       0    |       0    |       0    |       0    |\n",
      "|---------------------------------------------------------------------------|\n",
      "| Non-releasable allocs |       0    |       0    |       0    |       0    |\n",
      "|       from large pool |       0    |       0    |       0    |       0    |\n",
      "|       from small pool |       0    |       0    |       0    |       0    |\n",
      "|---------------------------------------------------------------------------|\n",
      "| Oversize allocations  |       0    |       0    |       0    |       0    |\n",
      "|---------------------------------------------------------------------------|\n",
      "| Oversize GPU segments |       0    |       0    |       0    |       0    |\n",
      "|===========================================================================|\n",
      "\n"
     ]
    },
    {
     "name": "stderr",
     "output_type": "stream",
     "text": [
      "[nltk_data] Downloading package wordnet to\n",
      "[nltk_data]     C:\\Users\\yazee\\AppData\\Roaming\\nltk_data...\n",
      "[nltk_data]   Package wordnet is already up-to-date!\n",
      "[nltk_data] Downloading package omw-1.4 to\n",
      "[nltk_data]     C:\\Users\\yazee\\AppData\\Roaming\\nltk_data...\n",
      "[nltk_data]   Package omw-1.4 is already up-to-date!\n"
     ]
    }
   ],
   "source": [
    "import json, os, glob, psutil, sys\n",
    "from pathlib import Path\n",
    "\n",
    "import numpy as np\n",
    "import pandas as pd\n",
    "from scipy import sparse\n",
    "from tqdm import tqdm\n",
    "from tqdm import notebook\n",
    "notebook.tqdm.pandas()\n",
    "tqdm.pandas()\n",
    "\n",
    "import warnings\n",
    "warnings.filterwarnings(\"ignore\", category=FutureWarning)\n",
    "\n",
    "pd.options.display.width = 180\n",
    "pd.options.display.max_colwidth = 120\n",
    "\n",
    "import pairwise as ssp\n",
    "\n",
    "import torch\n",
    "from torch.utils.data import DataLoader, Dataset\n",
    "from sklearn.model_selection import GroupShuffleSplit\n",
    "\n",
    "\n",
    "from pyxtension.streams import stream\n",
    "import swifter\n",
    "\n",
    "from copy import deepcopy\n",
    "\n",
    "print('__CUDA VERSION:', torch.version.cuda)\n",
    "print('__CUDNN VERSION:', torch.backends.cudnn.version())\n",
    "print(torch.cuda.is_available())\n",
    "if torch.cuda.is_available():\n",
    "    print(torch.cuda.empty_cache())\n",
    "    print(torch.cuda.memory_summary(device=None, abbreviated=False))"
   ]
  },
  {
   "cell_type": "code",
   "execution_count": 2,
   "id": "b484a5b9-3073-404f-92da-919e049bcd39",
   "metadata": {},
   "outputs": [
    {
     "name": "stdout",
     "output_type": "stream",
     "text": [
      "\u001b[94mNumber of notebooks present in train set  =  139256\n",
      "\u001b[94mNumber of notebooks contribute in training =  1393\n"
     ]
    }
   ],
   "source": [
    "RANDOM_SEED = 42\n",
    "PROCESSORS_COUNT = psutil.cpu_count(logical=False)\n",
    "np.random.seed(RANDOM_SEED)\n",
    "\n",
    "\n",
    "data_dir = Path('.')\n",
    "train_dir = os.path.join(data_dir, 'train')\n",
    "models_dir = os.path.join(data_dir, 'pt_models')\n",
    "orders_path = os.path.join(data_dir, 'train_orders.csv')\n",
    "ancestors_path = os.path.join(data_dir, 'train_ancestors.csv')\n",
    "\n",
    "\n",
    "count = len(list(glob.iglob(os.path.join(train_dir, '*.json'))))\n",
    "NUM_TRAIN = int(count * 0.01) + 1\n",
    "# NUM_TRAIN = 100\n",
    "MULTI = PROCESSORS_COUNT * int(str(NUM_TRAIN) [:-2])\n",
    "\n",
    "print(f\"\\033[94mNumber of notebooks present in train set  = \", count)\n",
    "print(f\"\\033[94mNumber of notebooks contribute in training = \", NUM_TRAIN)"
   ]
  },
  {
   "cell_type": "code",
   "execution_count": 3,
   "id": "66582e7e-65ac-4463-b96e-9b3a32797063",
   "metadata": {},
   "outputs": [
    {
     "name": "stderr",
     "output_type": "stream",
     "text": [
      "Train NBs: 100%|██████████| 1393/1393 [00:08<00:00, 159.90it/s]\n"
     ]
    },
    {
     "name": "stdout",
     "output_type": "stream",
     "text": [
      "<class 'pandas.core.frame.DataFrame'>\n",
      "MultiIndex: 64557 entries, ('00001756c60be8', '1862f0a6') to ('02981070f7299c', 'a36f93a7')\n",
      "Data columns (total 2 columns):\n",
      " #   Column     Non-Null Count  Dtype   \n",
      "---  ------     --------------  -----   \n",
      " 0   cell_type  64557 non-null  category\n",
      " 1   source     64557 non-null  object  \n",
      "dtypes: category(1), object(1)\n",
      "memory usage: 3.5+ MB\n",
      "None\n"
     ]
    },
    {
     "data": {
      "text/html": [
       "<div>\n",
       "<style scoped>\n",
       "    .dataframe tbody tr th:only-of-type {\n",
       "        vertical-align: middle;\n",
       "    }\n",
       "\n",
       "    .dataframe tbody tr th {\n",
       "        vertical-align: top;\n",
       "    }\n",
       "\n",
       "    .dataframe thead th {\n",
       "        text-align: right;\n",
       "    }\n",
       "</style>\n",
       "<table border=\"1\" class=\"dataframe\">\n",
       "  <thead>\n",
       "    <tr style=\"text-align: right;\">\n",
       "      <th></th>\n",
       "      <th></th>\n",
       "      <th>cell_type</th>\n",
       "      <th>source</th>\n",
       "    </tr>\n",
       "    <tr>\n",
       "      <th>id</th>\n",
       "      <th>cell_id</th>\n",
       "      <th></th>\n",
       "      <th></th>\n",
       "    </tr>\n",
       "  </thead>\n",
       "  <tbody>\n",
       "    <tr>\n",
       "      <th rowspan=\"5\" valign=\"top\">00001756c60be8</th>\n",
       "      <th>1862f0a6</th>\n",
       "      <td>code</td>\n",
       "      <td># This Python 3 environment comes with many helpful analytics libraries installed\\n# It is defined by the kaggle/pyt...</td>\n",
       "    </tr>\n",
       "    <tr>\n",
       "      <th>2a9e43d6</th>\n",
       "      <td>code</td>\n",
       "      <td>import numpy as np\\nimport pandas as pd\\nimport random\\n\\nfrom sklearn.model_selection import train_test_split, cros...</td>\n",
       "    </tr>\n",
       "    <tr>\n",
       "      <th>038b763d</th>\n",
       "      <td>code</td>\n",
       "      <td>import warnings\\nwarnings.filterwarnings('ignore')</td>\n",
       "    </tr>\n",
       "    <tr>\n",
       "      <th>2eefe0ef</th>\n",
       "      <td>code</td>\n",
       "      <td>matplotlib.rcParams.update({'font.size': 14})</td>\n",
       "    </tr>\n",
       "    <tr>\n",
       "      <th>0beab1cd</th>\n",
       "      <td>code</td>\n",
       "      <td>def evaluate_preds(train_true_values, train_pred_values, test_true_values, test_pred_values):\\n    print(\"Train R2:\\...</td>\n",
       "    </tr>\n",
       "  </tbody>\n",
       "</table>\n",
       "</div>"
      ],
      "text/plain": [
       "                        cell_type                                                                                                                   source\n",
       "id             cell_id                                                                                                                                    \n",
       "00001756c60be8 1862f0a6      code  # This Python 3 environment comes with many helpful analytics libraries installed\\n# It is defined by the kaggle/pyt...\n",
       "               2a9e43d6      code  import numpy as np\\nimport pandas as pd\\nimport random\\n\\nfrom sklearn.model_selection import train_test_split, cros...\n",
       "               038b763d      code                                                                       import warnings\\nwarnings.filterwarnings('ignore')\n",
       "               2eefe0ef      code                                                                            matplotlib.rcParams.update({'font.size': 14})\n",
       "               0beab1cd      code  def evaluate_preds(train_true_values, train_pred_values, test_true_values, test_pred_values):\\n    print(\"Train R2:\\..."
      ]
     },
     "metadata": {},
     "output_type": "display_data"
    },
    {
     "name": "stdout",
     "output_type": "stream",
     "text": [
      "-----------------------------------------------------------------------------------------------------------------------------\n"
     ]
    },
    {
     "name": "stderr",
     "output_type": "stream",
     "text": [
      "100%|██████████| 1393/1393 [00:00<00:00, 49834.66it/s]\n"
     ]
    },
    {
     "data": {
      "application/vnd.jupyter.widget-view+json": {
       "model_id": "3f843fd6536345ce8eb4ec3c7d2f83a9",
       "version_major": 2,
       "version_minor": 0
      },
      "text/plain": [
       "Pandas Apply:   0%|          | 0/3 [00:00<?, ?it/s]"
      ]
     },
     "metadata": {},
     "output_type": "display_data"
    },
    {
     "data": {
      "text/html": [
       "<div>\n",
       "<style scoped>\n",
       "    .dataframe tbody tr th:only-of-type {\n",
       "        vertical-align: middle;\n",
       "    }\n",
       "\n",
       "    .dataframe tbody tr th {\n",
       "        vertical-align: top;\n",
       "    }\n",
       "\n",
       "    .dataframe thead th {\n",
       "        text-align: right;\n",
       "    }\n",
       "</style>\n",
       "<table border=\"1\" class=\"dataframe\">\n",
       "  <thead>\n",
       "    <tr style=\"text-align: right;\">\n",
       "      <th></th>\n",
       "      <th>id</th>\n",
       "      <th>cell_id</th>\n",
       "      <th>cell_type</th>\n",
       "      <th>source</th>\n",
       "      <th>rank</th>\n",
       "      <th>ancestor_id</th>\n",
       "      <th>parent_id</th>\n",
       "    </tr>\n",
       "  </thead>\n",
       "  <tbody>\n",
       "    <tr>\n",
       "      <th>0</th>\n",
       "      <td>00001756c60be8</td>\n",
       "      <td>1862f0a6</td>\n",
       "      <td>code</td>\n",
       "      <td># This Python 3 environment comes with many helpful analytics libraries installed\\n# It is defined by the kaggle/pyt...</td>\n",
       "      <td>0.000000</td>\n",
       "      <td>945aea18</td>\n",
       "      <td>NaN</td>\n",
       "    </tr>\n",
       "    <tr>\n",
       "      <th>1</th>\n",
       "      <td>00001756c60be8</td>\n",
       "      <td>2a9e43d6</td>\n",
       "      <td>code</td>\n",
       "      <td>import numpy as np\\nimport pandas as pd\\nimport random\\n\\nfrom sklearn.model_selection import train_test_split, cros...</td>\n",
       "      <td>0.034483</td>\n",
       "      <td>945aea18</td>\n",
       "      <td>NaN</td>\n",
       "    </tr>\n",
       "    <tr>\n",
       "      <th>2</th>\n",
       "      <td>00001756c60be8</td>\n",
       "      <td>038b763d</td>\n",
       "      <td>code</td>\n",
       "      <td>import warnings\\nwarnings.filterwarnings('ignore')</td>\n",
       "      <td>0.068966</td>\n",
       "      <td>945aea18</td>\n",
       "      <td>NaN</td>\n",
       "    </tr>\n",
       "    <tr>\n",
       "      <th>3</th>\n",
       "      <td>00001756c60be8</td>\n",
       "      <td>2eefe0ef</td>\n",
       "      <td>code</td>\n",
       "      <td>matplotlib.rcParams.update({'font.size': 14})</td>\n",
       "      <td>0.103448</td>\n",
       "      <td>945aea18</td>\n",
       "      <td>NaN</td>\n",
       "    </tr>\n",
       "    <tr>\n",
       "      <th>4</th>\n",
       "      <td>00001756c60be8</td>\n",
       "      <td>0beab1cd</td>\n",
       "      <td>code</td>\n",
       "      <td>def evaluate_preds(train_true_values, train_pred_values, test_true_values, test_pred_values):\\n    print(\"Train R2:\\...</td>\n",
       "      <td>0.137931</td>\n",
       "      <td>945aea18</td>\n",
       "      <td>NaN</td>\n",
       "    </tr>\n",
       "  </tbody>\n",
       "</table>\n",
       "</div>"
      ],
      "text/plain": [
       "               id   cell_id cell_type                                                                                                                   source      rank  \\\n",
       "0  00001756c60be8  1862f0a6      code  # This Python 3 environment comes with many helpful analytics libraries installed\\n# It is defined by the kaggle/pyt...  0.000000   \n",
       "1  00001756c60be8  2a9e43d6      code  import numpy as np\\nimport pandas as pd\\nimport random\\n\\nfrom sklearn.model_selection import train_test_split, cros...  0.034483   \n",
       "2  00001756c60be8  038b763d      code                                                                       import warnings\\nwarnings.filterwarnings('ignore')  0.068966   \n",
       "3  00001756c60be8  2eefe0ef      code                                                                            matplotlib.rcParams.update({'font.size': 14})  0.103448   \n",
       "4  00001756c60be8  0beab1cd      code  def evaluate_preds(train_true_values, train_pred_values, test_true_values, test_pred_values):\\n    print(\"Train R2:\\...  0.137931   \n",
       "\n",
       "  ancestor_id parent_id  \n",
       "0    945aea18       NaN  \n",
       "1    945aea18       NaN  \n",
       "2    945aea18       NaN  \n",
       "3    945aea18       NaN  \n",
       "4    945aea18       NaN  "
      ]
     },
     "metadata": {},
     "output_type": "display_data"
    }
   ],
   "source": [
    "df = ssp.read_all_notebooks_(train_dir, NUM_TRAIN, PROCESSORS_COUNT)\n",
    "display(df.head())\n",
    "\n",
    "print('-' * 125)\n",
    "\n",
    "# Read Ordering data\n",
    "df_orders = pd.read_csv(\n",
    "    orders_path,\n",
    "    index_col='id',\n",
    ")\n",
    "df_orders['cell_order'] = df_orders['cell_order'].str.split()  # Split the string representation of cell_ids into a list\n",
    "df_orders = df_orders.squeeze(axis=1)\n",
    "\n",
    "\n",
    "# build ranks as integers \n",
    "df = df.join(ssp.build_ranks_(df_orders, df, PROCESSORS_COUNT))\n",
    "\n",
    "\n",
    "# Read Ancestors data\n",
    "df = df.reset_index().merge(pd.read_csv(ancestors_path,  index_col='id'), on=[\"id\"])\n",
    "\n",
    "# convert integer ranks to percentages \n",
    "df[\"rank\"] = df[\"rank\"] / df.groupby(\"id\")[\"cell_id\"].transform(\"count\")\n",
    "\n",
    "display(df.head())"
   ]
  },
  {
   "cell_type": "code",
   "execution_count": 4,
   "id": "72f6cff1-5a00-45b6-a70e-c7513a317214",
   "metadata": {},
   "outputs": [
    {
     "data": {
      "application/vnd.jupyter.widget-view+json": {
       "model_id": "e2bd5e36a41c495889f63697dd5786f4",
       "version_major": 2,
       "version_minor": 0
      },
      "text/plain": [
       "Pandas Apply:   0%|          | 0/21989 [00:00<?, ?it/s]"
      ]
     },
     "metadata": {},
     "output_type": "display_data"
    },
    {
     "data": {
      "application/vnd.jupyter.widget-view+json": {
       "model_id": "101743bf40684522affa9f39d9d6dd61",
       "version_major": 2,
       "version_minor": 0
      },
      "text/plain": [
       "Pandas Apply:   0%|          | 0/42568 [00:00<?, ?it/s]"
      ]
     },
     "metadata": {},
     "output_type": "display_data"
    },
    {
     "data": {
      "text/html": [
       "<div>\n",
       "<style scoped>\n",
       "    .dataframe tbody tr th:only-of-type {\n",
       "        vertical-align: middle;\n",
       "    }\n",
       "\n",
       "    .dataframe tbody tr th {\n",
       "        vertical-align: top;\n",
       "    }\n",
       "\n",
       "    .dataframe thead th {\n",
       "        text-align: right;\n",
       "    }\n",
       "</style>\n",
       "<table border=\"1\" class=\"dataframe\">\n",
       "  <thead>\n",
       "    <tr style=\"text-align: right;\">\n",
       "      <th></th>\n",
       "      <th>id</th>\n",
       "      <th>cell_id</th>\n",
       "      <th>cell_type</th>\n",
       "      <th>source</th>\n",
       "      <th>rank</th>\n",
       "      <th>ancestor_id</th>\n",
       "      <th>parent_id</th>\n",
       "    </tr>\n",
       "  </thead>\n",
       "  <tbody>\n",
       "    <tr>\n",
       "      <th>0</th>\n",
       "      <td>00001756c60be8</td>\n",
       "      <td>1862f0a6</td>\n",
       "      <td>code</td>\n",
       "      <td>#  This Python 3 environment comes with many helpful analytics libraries installed\\n#  It is defined by the kaggle/p...</td>\n",
       "      <td>0.000000</td>\n",
       "      <td>945aea18</td>\n",
       "      <td>NaN</td>\n",
       "    </tr>\n",
       "    <tr>\n",
       "      <th>1</th>\n",
       "      <td>00001756c60be8</td>\n",
       "      <td>2a9e43d6</td>\n",
       "      <td>code</td>\n",
       "      <td>import numpy as np\\nimport pandas as pd\\nimport random\\nfrom sklearn.model_selection import train_test_split, cross_...</td>\n",
       "      <td>0.034483</td>\n",
       "      <td>945aea18</td>\n",
       "      <td>NaN</td>\n",
       "    </tr>\n",
       "    <tr>\n",
       "      <th>2</th>\n",
       "      <td>00001756c60be8</td>\n",
       "      <td>038b763d</td>\n",
       "      <td>code</td>\n",
       "      <td>import warnings\\nwarnings.filterwarnings('ignore')</td>\n",
       "      <td>0.068966</td>\n",
       "      <td>945aea18</td>\n",
       "      <td>NaN</td>\n",
       "    </tr>\n",
       "    <tr>\n",
       "      <th>3</th>\n",
       "      <td>00001756c60be8</td>\n",
       "      <td>2eefe0ef</td>\n",
       "      <td>code</td>\n",
       "      <td>matplotlib.rcParams.update({'font.size': 14})</td>\n",
       "      <td>0.103448</td>\n",
       "      <td>945aea18</td>\n",
       "      <td>NaN</td>\n",
       "    </tr>\n",
       "    <tr>\n",
       "      <th>4</th>\n",
       "      <td>00001756c60be8</td>\n",
       "      <td>0beab1cd</td>\n",
       "      <td>code</td>\n",
       "      <td>def evaluate_preds(train_true_values, train_pred_values, test_true_values, test_pred_values):\\n    print(\"Train R2:\\...</td>\n",
       "      <td>0.137931</td>\n",
       "      <td>945aea18</td>\n",
       "      <td>NaN</td>\n",
       "    </tr>\n",
       "  </tbody>\n",
       "</table>\n",
       "</div>"
      ],
      "text/plain": [
       "               id   cell_id cell_type                                                                                                                   source      rank  \\\n",
       "0  00001756c60be8  1862f0a6      code  #  This Python 3 environment comes with many helpful analytics libraries installed\\n#  It is defined by the kaggle/p...  0.000000   \n",
       "1  00001756c60be8  2a9e43d6      code  import numpy as np\\nimport pandas as pd\\nimport random\\nfrom sklearn.model_selection import train_test_split, cross_...  0.034483   \n",
       "2  00001756c60be8  038b763d      code                                                                       import warnings\\nwarnings.filterwarnings('ignore')  0.068966   \n",
       "3  00001756c60be8  2eefe0ef      code                                                                            matplotlib.rcParams.update({'font.size': 14})  0.103448   \n",
       "4  00001756c60be8  0beab1cd      code  def evaluate_preds(train_true_values, train_pred_values, test_true_values, test_pred_values):\\n    print(\"Train R2:\\...  0.137931   \n",
       "\n",
       "  ancestor_id parent_id  \n",
       "0    945aea18       NaN  \n",
       "1    945aea18       NaN  \n",
       "2    945aea18       NaN  \n",
       "3    945aea18       NaN  \n",
       "4    945aea18       NaN  "
      ]
     },
     "execution_count": 4,
     "metadata": {},
     "output_type": "execute_result"
    }
   ],
   "source": [
    "dict_cellid_source = dict(zip(df['cell_id'].values, df['source'].values))\n",
    "MKDN = 'markdown'\n",
    "CODE = 'code'\n",
    "df.loc[df.cell_type == MKDN, 'source'] = df.loc[df.cell_type == MKDN, 'source'].swifter.apply(ssp.markdown_lines_preprocess)\n",
    "df.loc[df.cell_type != MKDN, 'source'] = df.loc[df.cell_type != MKDN, 'source'].swifter.apply(ssp.code_lines_preprocess)\n",
    "df.head()"
   ]
  },
  {
   "cell_type": "code",
   "execution_count": 5,
   "id": "c19274d0-5fcd-49ec-a7bb-315e99b4767e",
   "metadata": {},
   "outputs": [],
   "source": [
    "MODEL_USELESS = ['id', 'cell_type', 'ancestor_id', 'parent_id', ]\n",
    "VALIDATION_RATIO = 0.15\n",
    "\n",
    "MAX_LENGTH = 196\n",
    "\n",
    "BATCH_SIZE = 8\n",
    "EPOCHS = 1\n",
    "TOTAL_MAX_LEN = 412"
   ]
  },
  {
   "cell_type": "code",
   "execution_count": 6,
   "id": "327b49be-9df2-47e1-8424-129cf2ffa176",
   "metadata": {},
   "outputs": [
    {
     "name": "stdout",
     "output_type": "stream",
     "text": [
      "[0 1 2 3 4] [402 403 404 405 406]\n"
     ]
    },
    {
     "data": {
      "text/html": [
       "<div>\n",
       "<style scoped>\n",
       "    .dataframe tbody tr th:only-of-type {\n",
       "        vertical-align: middle;\n",
       "    }\n",
       "\n",
       "    .dataframe tbody tr th {\n",
       "        vertical-align: top;\n",
       "    }\n",
       "\n",
       "    .dataframe thead th {\n",
       "        text-align: right;\n",
       "    }\n",
       "</style>\n",
       "<table border=\"1\" class=\"dataframe\">\n",
       "  <thead>\n",
       "    <tr style=\"text-align: right;\">\n",
       "      <th></th>\n",
       "      <th>id</th>\n",
       "      <th>cell_id</th>\n",
       "      <th>cell_type</th>\n",
       "      <th>source</th>\n",
       "      <th>rank</th>\n",
       "      <th>ancestor_id</th>\n",
       "      <th>parent_id</th>\n",
       "    </tr>\n",
       "  </thead>\n",
       "  <tbody>\n",
       "    <tr>\n",
       "      <th>0</th>\n",
       "      <td>00001756c60be8</td>\n",
       "      <td>1862f0a6</td>\n",
       "      <td>code</td>\n",
       "      <td>#  This Python 3 environment comes with many helpful analytics libraries installed\\n#  It is defined by the kaggle/p...</td>\n",
       "      <td>0.000000</td>\n",
       "      <td>945aea18</td>\n",
       "      <td>NaN</td>\n",
       "    </tr>\n",
       "    <tr>\n",
       "      <th>1</th>\n",
       "      <td>00001756c60be8</td>\n",
       "      <td>2a9e43d6</td>\n",
       "      <td>code</td>\n",
       "      <td>import numpy as np\\nimport pandas as pd\\nimport random\\nfrom sklearn.model_selection import train_test_split, cross_...</td>\n",
       "      <td>0.034483</td>\n",
       "      <td>945aea18</td>\n",
       "      <td>NaN</td>\n",
       "    </tr>\n",
       "  </tbody>\n",
       "</table>\n",
       "</div>"
      ],
      "text/plain": [
       "               id   cell_id cell_type                                                                                                                   source      rank  \\\n",
       "0  00001756c60be8  1862f0a6      code  #  This Python 3 environment comes with many helpful analytics libraries installed\\n#  It is defined by the kaggle/p...  0.000000   \n",
       "1  00001756c60be8  2a9e43d6      code  import numpy as np\\nimport pandas as pd\\nimport random\\nfrom sklearn.model_selection import train_test_split, cross_...  0.034483   \n",
       "\n",
       "  ancestor_id parent_id  \n",
       "0    945aea18       NaN  \n",
       "1    945aea18       NaN  "
      ]
     },
     "metadata": {},
     "output_type": "display_data"
    },
    {
     "data": {
      "text/html": [
       "<div>\n",
       "<style scoped>\n",
       "    .dataframe tbody tr th:only-of-type {\n",
       "        vertical-align: middle;\n",
       "    }\n",
       "\n",
       "    .dataframe tbody tr th {\n",
       "        vertical-align: top;\n",
       "    }\n",
       "\n",
       "    .dataframe thead th {\n",
       "        text-align: right;\n",
       "    }\n",
       "</style>\n",
       "<table border=\"1\" class=\"dataframe\">\n",
       "  <thead>\n",
       "    <tr style=\"text-align: right;\">\n",
       "      <th></th>\n",
       "      <th>id</th>\n",
       "      <th>cell_id</th>\n",
       "      <th>cell_type</th>\n",
       "      <th>source</th>\n",
       "      <th>rank</th>\n",
       "      <th>ancestor_id</th>\n",
       "      <th>parent_id</th>\n",
       "    </tr>\n",
       "  </thead>\n",
       "  <tbody>\n",
       "    <tr>\n",
       "      <th>0</th>\n",
       "      <td>00035108e64677</td>\n",
       "      <td>2fa1f27b</td>\n",
       "      <td>code</td>\n",
       "      <td>#  Basic Libraries\\nimport numpy as np\\nimport pandas as pd\\nimport seaborn as sb\\nimport matplotlib.pyplot as plt #...</td>\n",
       "      <td>0.029412</td>\n",
       "      <td>a41da3f9</td>\n",
       "      <td>NaN</td>\n",
       "    </tr>\n",
       "    <tr>\n",
       "      <th>1</th>\n",
       "      <td>00035108e64677</td>\n",
       "      <td>f3c2de19</td>\n",
       "      <td>code</td>\n",
       "      <td># import test and train file\\neverything = pd.read_json(\"../input/whats-cooking/train.json\")\\ntest = pd.read_json(\"....</td>\n",
       "      <td>0.088235</td>\n",
       "      <td>a41da3f9</td>\n",
       "      <td>NaN</td>\n",
       "    </tr>\n",
       "  </tbody>\n",
       "</table>\n",
       "</div>"
      ],
      "text/plain": [
       "               id   cell_id cell_type                                                                                                                   source      rank  \\\n",
       "0  00035108e64677  2fa1f27b      code  #  Basic Libraries\\nimport numpy as np\\nimport pandas as pd\\nimport seaborn as sb\\nimport matplotlib.pyplot as plt #...  0.029412   \n",
       "1  00035108e64677  f3c2de19      code  # import test and train file\\neverything = pd.read_json(\"../input/whats-cooking/train.json\")\\ntest = pd.read_json(\"....  0.088235   \n",
       "\n",
       "  ancestor_id parent_id  \n",
       "0    a41da3f9       NaN  \n",
       "1    a41da3f9       NaN  "
      ]
     },
     "metadata": {},
     "output_type": "display_data"
    }
   ],
   "source": [
    "from sklearn.model_selection import GroupShuffleSplit\n",
    "splitter = GroupShuffleSplit(n_splits=1, test_size=VALIDATION_RATIO, random_state=RANDOM_SEED)\n",
    "\n",
    "# Split, keeping notebooks with a common origin (ancestor_id) together\n",
    "ids_train, ids_valid = next(splitter.split(df, groups=df[\"ancestor_id\"]))\n",
    "print(ids_train[:5], ids_valid[:5])\n",
    "\n",
    "# extract code cells for each notebook\n",
    "df_train = df.loc[ids_train, :].reset_index(drop=True)\n",
    "df_valid = df.loc[ids_valid, :].reset_index(drop=True)\n",
    "display(df_train.head(2))\n",
    "display(df_valid.head(2))"
   ]
  },
  {
   "cell_type": "code",
   "execution_count": 7,
   "id": "423bb7b7-23cd-4c2d-8c5c-f63d37ff08b5",
   "metadata": {},
   "outputs": [
    {
     "name": "stdout",
     "output_type": "stream",
     "text": [
      "89368 17111\n"
     ]
    }
   ],
   "source": [
    "triplets = []\n",
    "val_triplets = []\n",
    "\n",
    "for lst in list(stream(np.array_split(df_train, PROCESSORS_COUNT)).mpmap(ssp.generate_training_triplet)):\n",
    "    triplets.extend(lst)\n",
    "    \n",
    "for lst in list(stream(np.array_split(df_valid, PROCESSORS_COUNT)).mpmap(ssp.generate_testing_triplet)):\n",
    "    val_triplets.extend(lst)\n",
    "\n",
    "print(len(triplets), len(val_triplets))"
   ]
  },
  {
   "cell_type": "code",
   "execution_count": 8,
   "id": "7db046b0-f865-4aa1-9c2f-1f885c665e14",
   "metadata": {},
   "outputs": [],
   "source": [
    "# raise"
   ]
  },
  {
   "cell_type": "code",
   "execution_count": 9,
   "id": "798e05e1-29ff-4649-90fb-6427574cb4da",
   "metadata": {},
   "outputs": [],
   "source": [
    "# BERT_MODEL_NAME = \"microsoft/codebert-base\"\n",
    "BERT_MODEL_NAME = 'distilbert-base-uncased'\n",
    "# BERT_MODEL_NAME = \"microsoft/graphcodebert-base\"\n",
    "\n",
    "# OPTIMIZER = 'adam'\n",
    "OPTIMIZER = 'nadam'\n",
    "\n",
    "# triplets = ssp.generate_triplet(df_train)\n",
    "# val_triplets = ssp.generate_triplet(df_valid, mode = 'test')\n",
    "\n",
    "train_ds = ssp.BDataset(\n",
    "    df=triplets, \n",
    "    source_dict=dict_cellid_source,\n",
    "    bert_model_name=BERT_MODEL_NAME,\n",
    "    max_len=MAX_LENGTH,\n",
    "    total_max_len=TOTAL_MAX_LEN,\n",
    ")\n",
    "val_ds = ssp.BDataset(\n",
    "    df=val_triplets,    \n",
    "    source_dict=dict_cellid_source,\n",
    "    bert_model_name=BERT_MODEL_NAME,\n",
    "    max_len=MAX_LENGTH,\n",
    "    total_max_len=TOTAL_MAX_LEN,\n",
    ")\n",
    "\n",
    "train_loader = DataLoader(train_ds, batch_size=BATCH_SIZE, shuffle=True, num_workers=PROCESSORS_COUNT, pin_memory=False, drop_last=True)\n",
    "val_loader = DataLoader(val_ds, batch_size=BATCH_SIZE * 4, shuffle=False, num_workers=PROCESSORS_COUNT, pin_memory=False, drop_last=False)"
   ]
  },
  {
   "cell_type": "code",
   "execution_count": 10,
   "id": "ce46e016-e871-4d27-b574-36de0a7d9c3b",
   "metadata": {},
   "outputs": [
    {
     "name": "stderr",
     "output_type": "stream",
     "text": [
      "Some weights of the model checkpoint at distilbert-base-uncased were not used when initializing DistilBertModel: ['vocab_projector.bias', 'vocab_layer_norm.weight', 'vocab_projector.weight', 'vocab_transform.bias', 'vocab_layer_norm.bias', 'vocab_transform.weight']\n",
      "- This IS expected if you are initializing DistilBertModel from the checkpoint of a model trained on another task or with another architecture (e.g. initializing a BertForSequenceClassification model from a BertForPreTraining model).\n",
      "- This IS NOT expected if you are initializing DistilBertModel from the checkpoint of a model that you expect to be exactly identical (initializing a BertForSequenceClassification model from a BertForSequenceClassification model).\n"
     ]
    },
    {
     "name": "stdout",
     "output_type": "stream",
     "text": [
      "Epoch 1 Loss: 0.0560025 lr: 1e-05:   1%|          | 105/11171 [01:05<1:55:53,  1.59it/s]\n"
     ]
    },
    {
     "name": "stderr",
     "output_type": "stream",
     "text": [
      "\n",
      "KeyboardInterrupt\n",
      "\n"
     ]
    }
   ],
   "source": [
    "model = ssp.BModel(BERT_MODEL_NAME).cuda()\n",
    "model, ypred = ssp.train(\n",
    "    model, \n",
    "    train_loader, \n",
    "    val_loader, \n",
    "    epochs=EPOCHS, \n",
    "    path=os.path.join(models_dir, 'single_bert_checkpoint.pt')\n",
    ")"
   ]
  },
  {
   "cell_type": "code",
   "execution_count": null,
   "id": "ad03fa66-988e-46e4-9328-5e4904247def",
   "metadata": {},
   "outputs": [],
   "source": [
    "df_valid[\"ranks\"] = df_valid.groupby([\"id\", \"cell_type\"]).cumcount()\n",
    "df_valid[\"pred\"] = df_valid.groupby([\"id\", \"cell_type\"])[\"rank\"].rank(pct=False)\n",
    "\n",
    "pred_vals = []\n",
    "count = 0\n",
    "for id, df_tmp in tqdm(df_valid.groupby('id')):\n",
    "    df_tmp_mark = df_tmp[df_tmp['cell_type'] == 'markdown']\n",
    "    df_tmp_code = df_tmp[df_tmp['cell_type'] != 'markdown']\n",
    "    df_tmp_code_rank = df_tmp_code['rank'].rank().values\n",
    "    # print('Code Rank', df_tmp_code_rank.shape)\n",
    "    N_code = len(df_tmp_code_rank)\n",
    "    N_mark = len(df_tmp_mark)\n",
    "\n",
    "    preds_tmp = ypred[count : count + N_mark * N_code]\n",
    "    \n",
    "    count += N_mark * N_code\n",
    "\n",
    "    for i in range(N_mark):\n",
    "        # print(i, N_code)\n",
    "        # print(i * N_code)\n",
    "        # print(i * N_code + N_code)\n",
    "        # print('preds_tmp', preds_tmp.shape)\n",
    "        pred = preds_tmp[i * N_code : i * N_code + N_code] \n",
    "        # if len(pred) < N_code:\n",
    "        #     # print(len(preds_tmp))\n",
    "        #     continue\n",
    "        # print('Preds', pred.shape)\n",
    "        softmax = np.exp((pred - np.mean(pred)) * 20) / np.sum(np.exp((pred - np.mean(pred)) * 20)) \n",
    "        # print('softmax', softmax.shape)\n",
    "        rank = np.sum(softmax * df_tmp_code_rank[:len(pred)])\n",
    "        pred_vals.append(rank)\n",
    "\n",
    "print(len(df_valid.loc[df_valid[\"cell_type\"] == \"markdown\", \"pred\"]), len(pred_vals))\n",
    "df_valid.loc[df_valid[\"cell_type\"] == \"markdown\", \"pred\"] = pred_vals\n",
    "y_dummy = df_valid.sort_values(\"pred\").groupby('id')['cell_id'].apply(list)\n",
    "print('Final accuracy for code is:', ssp.kendall_tau(df_orders.loc[y_dummy.index], y_dummy))"
   ]
  },
  {
   "cell_type": "code",
   "execution_count": null,
   "id": "d3936a64-bd13-4394-9fc9-428036506d58",
   "metadata": {},
   "outputs": [],
   "source": []
  },
  {
   "cell_type": "code",
   "execution_count": null,
   "id": "19c7bd70-a7b6-4c5e-9a39-e6c65ed2e3b5",
   "metadata": {},
   "outputs": [],
   "source": []
  },
  {
   "cell_type": "code",
   "execution_count": null,
   "id": "33c62611-8cd0-4ee2-a90a-587c6f5f15d9",
   "metadata": {},
   "outputs": [],
   "source": []
  },
  {
   "cell_type": "code",
   "execution_count": null,
   "id": "19627607-1882-43f1-ac7b-00f0ae11a473",
   "metadata": {},
   "outputs": [],
   "source": []
  },
  {
   "cell_type": "code",
   "execution_count": null,
   "id": "41b7ceb7-68e9-4a55-bb21-9a385b3c3a29",
   "metadata": {},
   "outputs": [],
   "source": []
  },
  {
   "cell_type": "code",
   "execution_count": null,
   "id": "2fbe9c4c-5acc-42ed-b433-80d3fdb14713",
   "metadata": {},
   "outputs": [],
   "source": []
  },
  {
   "cell_type": "code",
   "execution_count": null,
   "id": "99256020-03dd-4eb2-be3d-8e9a1f01b769",
   "metadata": {},
   "outputs": [],
   "source": []
  }
 ],
 "metadata": {
  "kernelspec": {
   "display_name": "Python 3 (ipykernel)",
   "language": "python",
   "name": "python3"
  },
  "language_info": {
   "codemirror_mode": {
    "name": "ipython",
    "version": 3
   },
   "file_extension": ".py",
   "mimetype": "text/x-python",
   "name": "python",
   "nbconvert_exporter": "python",
   "pygments_lexer": "ipython3",
   "version": "3.10.5"
  }
 },
 "nbformat": 4,
 "nbformat_minor": 5
}
